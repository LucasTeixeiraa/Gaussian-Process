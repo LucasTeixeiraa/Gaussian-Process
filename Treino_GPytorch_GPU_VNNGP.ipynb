{
 "cells": [
  {
   "cell_type": "code",
   "execution_count": 1,
   "metadata": {},
   "outputs": [],
   "source": [
    "import os\n",
    "import pandas as pd\n",
    "import numpy as np\n",
    "import time\n",
    "import matplotlib.pyplot as plt\n",
    "from sklearn.model_selection import train_test_split\n",
    "from sklearn.metrics import mean_squared_error\n",
    "from sklearn.gaussian_process import GaussianProcessRegressor\n",
    "from sklearn.linear_model import LinearRegression\n",
    "from sklearn.neural_network import MLPRegressor\n",
    "from sklearn.metrics import r2_score\n",
    "import math\n",
    "import torch\n",
    "import gpytorch\n",
    "from matplotlib import pyplot as plt\n",
    "from tqdm import tqdm"
   ]
  },
  {
   "cell_type": "code",
   "execution_count": 2,
   "metadata": {},
   "outputs": [
    {
     "name": "stdout",
     "output_type": "stream",
     "text": [
      "Carregado X com forma: (2048, 3)\n",
      "Carregado Y com forma: (2048, 5)\n",
      "Treino X: (1024, 3), Validação X: (1024, 3)\n",
      "Treino Y: (1024, 5), Validação Y: (1024, 5)\n"
     ]
    }
   ],
   "source": [
    "# Carregar os dados de um diretório\n",
    "directory = \"C:/Users/Lucas Teixeira/AP-Emulators/Generated_Data_100K/ModelA\"  # Substitua pelo seu diretório\n",
    "Ns = 2048  # Número máximo de amostras a carregar\n",
    "X = pd.read_csv(os.path.join(directory, \"X.csv\")).iloc[0:Ns]\n",
    "Y = pd.read_csv(os.path.join(directory, \"Y.csv\")).iloc[0:Ns]\n",
    "print(f\"Carregado X com forma: {X.shape}\")\n",
    "print(f\"Carregado Y com forma: {Y.shape}\")\n",
    "\n",
    "# Dividir os dados em treino e validação\n",
    "test_size = 0.5\n",
    "X_train, X_val, Y_train, Y_val = train_test_split(X, Y, test_size=test_size, random_state=42)\n",
    "print(f\"Treino X: {X_train.shape}, Validação X: {X_val.shape}\")\n",
    "print(f\"Treino Y: {Y_train.shape}, Validação Y: {Y_val.shape}\")"
   ]
  },
  {
   "cell_type": "code",
   "execution_count": 3,
   "metadata": {},
   "outputs": [],
   "source": [
    "# Verificar se todas as variáveis são DataFrames\n",
    "if isinstance(X_train, pd.DataFrame) and isinstance(X_val, pd.DataFrame) and isinstance(Y_train, pd.DataFrame) and isinstance(Y_val, pd.DataFrame):\n",
    "    X_train = torch.tensor(X_train.values, dtype=torch.float32).contiguous()\n",
    "    X_val = torch.tensor(X_val.values, dtype=torch.float32).contiguous()\n",
    "    Y_train = torch.tensor(Y_train.values, dtype=torch.float32).contiguous()\n",
    "    Y_val = torch.tensor(Y_val.values, dtype=torch.float32).contiguous()"
   ]
  },
  {
   "cell_type": "code",
   "execution_count": 4,
   "metadata": {},
   "outputs": [],
   "source": [
    "if torch.cuda.is_available():\n",
    "    X_train, Y_train, X_val, Y_val = X_train.cuda(), Y_train.cuda(), X_val.cuda(), Y_val.cuda()"
   ]
  },
  {
   "cell_type": "code",
   "execution_count": 5,
   "metadata": {},
   "outputs": [],
   "source": [
    "from gpytorch.models import ApproximateGP\n",
    "from gpytorch.variational.nearest_neighbor_variational_strategy import NNVariationalStrategy\n",
    "\n",
    "\n",
    "class GPModel(ApproximateGP):\n",
    "    def __init__(self, inducing_points, likelihood, k=256, training_batch_size=256):\n",
    "\n",
    "        m, d = inducing_points.shape\n",
    "        self.m = m\n",
    "        self.k = k\n",
    "\n",
    "        variational_distribution = gpytorch.variational.MeanFieldVariationalDistribution(m)\n",
    "\n",
    "        if torch.cuda.is_available():\n",
    "            inducing_points = inducing_points.cuda()\n",
    "\n",
    "        variational_strategy = NNVariationalStrategy(self, inducing_points, variational_distribution, k=k,\n",
    "                                                     training_batch_size=training_batch_size)\n",
    "        super(GPModel, self).__init__(variational_strategy)\n",
    "        self.mean_module = gpytorch.means.ZeroMean()\n",
    "        self.covar_module = gpytorch.kernels.MaternKernel(nu=2.5, ard_num_dims=d)\n",
    "\n",
    "        self.likelihood = likelihood\n",
    "\n",
    "    def forward(self, x):\n",
    "        mean_x = self.mean_module(x)\n",
    "        covar_x = self.covar_module(x)\n",
    "        return gpytorch.distributions.MultivariateNormal(mean_x, covar_x)\n",
    "\n",
    "    def __call__(self, x, prior=False, **kwargs):\n",
    "        if x is not None:\n",
    "            if x.dim() == 1:\n",
    "                x = x.unsqueeze(-1)\n",
    "        return self.variational_strategy(x=x, prior=False, **kwargs)"
   ]
  },
  {
   "cell_type": "code",
   "execution_count": 6,
   "metadata": {},
   "outputs": [],
   "source": [
    "likelihood = gpytorch.likelihoods.GaussianLikelihood()\n",
    "# Note: one should use full training set as inducing points!\n",
    "model = GPModel(inducing_points=X_train, likelihood=likelihood, k=32, training_batch_size=32)\n",
    "\n",
    "if torch.cuda.is_available():\n",
    "    likelihood = likelihood.cuda()\n",
    "    model = model.cuda()"
   ]
  },
  {
   "cell_type": "code",
   "execution_count": 8,
   "metadata": {},
   "outputs": [
    {
     "name": "stderr",
     "output_type": "stream",
     "text": [
      "Epoch: 100%|██████████| 10/10 [01:40<00:00, 10.09s/it]\n"
     ]
    }
   ],
   "source": [
    "from torch.utils.data import TensorDataset, DataLoader\n",
    "\n",
    "# prepare for dataset\n",
    "train_dataset = TensorDataset(X_train, Y_train)\n",
    "# this batch-size does not need to match the training-batch-size specified above\n",
    "train_loader = DataLoader(train_dataset, batch_size=1, shuffle=True)\n",
    "\n",
    "num_epochs = 10\n",
    "\n",
    "\n",
    "model.train()\n",
    "likelihood.train()\n",
    "\n",
    "optimizer = torch.optim.Adam(model.parameters(), lr=0.01)\n",
    "\n",
    "# Our loss object. We're using the VariationalELBO\n",
    "mll = gpytorch.mlls.VariationalELBO(likelihood, model, num_data=Y_train.size(0))\n",
    "\n",
    "\n",
    "epochs_iter = tqdm(range(num_epochs), desc=\"Epoch\")\n",
    "for i in epochs_iter:\n",
    "    # Within each iteration, we will go over each minibatch of data\n",
    "    minibatch_iter = tqdm(train_loader, desc=\"Minibatch\", leave=False)\n",
    "    for x_batch, y_batch in minibatch_iter:\n",
    "        optimizer.zero_grad()\n",
    "        output = model(x_batch)\n",
    "        loss = -mll(output, y_batch)\n",
    "        minibatch_iter.set_postfix(loss=loss.item())\n",
    "        loss.backward()\n",
    "        optimizer.step()"
   ]
  },
  {
   "cell_type": "code",
   "execution_count": 12,
   "metadata": {},
   "outputs": [],
   "source": [
    "# prepare for dataset\n",
    "test_dataset = TensorDataset(X_val, Y_val)\n",
    "# this batch-size does not need to match the training-batch-size specified above\n",
    "test_loader = DataLoader(test_dataset, batch_size=1, shuffle=True)\n",
    "\n",
    "model.eval()\n",
    "likelihood.eval()\n",
    "means = torch.tensor([0.])\n",
    "test_mse = 0\n",
    "with torch.no_grad():\n",
    "    for x_batch, y_batch in test_loader:\n",
    "        preds = model(x_batch)\n",
    "        means = torch.cat([means, preds.mean.cpu()])\n",
    "\n",
    "        diff = torch.pow(preds.mean - y_batch, 2)\n",
    "        diff = diff.sum(dim=-1) / X_val.size(0) # sum over bsz and scaling\n",
    "        diff = diff.mean() # average over likelihood_nsamples\n",
    "        test_mse += diff\n",
    "means = means[1:]\n",
    "test_rmse = test_mse.sqrt().item()"
   ]
  },
  {
   "cell_type": "code",
   "execution_count": 22,
   "metadata": {},
   "outputs": [
    {
     "ename": "IndexError",
     "evalue": "too many indices for tensor of dimension 1",
     "output_type": "error",
     "traceback": [
      "\u001b[1;31m---------------------------------------------------------------------------\u001b[0m",
      "\u001b[1;31mIndexError\u001b[0m                                Traceback (most recent call last)",
      "Cell \u001b[1;32mIn[22], line 14\u001b[0m\n\u001b[0;32m     12\u001b[0m \u001b[38;5;28;01mfor\u001b[39;00m i, qoi \u001b[38;5;129;01min\u001b[39;00m \u001b[38;5;28menumerate\u001b[39m(Y\u001b[38;5;241m.\u001b[39mcolumns):\n\u001b[0;32m     13\u001b[0m     ax \u001b[38;5;241m=\u001b[39m axes[i]\n\u001b[1;32m---> 14\u001b[0m     ax\u001b[38;5;241m.\u001b[39mscatter(Y_val[:, i]\u001b[38;5;241m.\u001b[39mnumpy(), \u001b[43mmeans\u001b[49m\u001b[43m[\u001b[49m\u001b[43m:\u001b[49m\u001b[43m,\u001b[49m\u001b[43m \u001b[49m\u001b[43mY\u001b[49m\u001b[38;5;241;43m.\u001b[39;49m\u001b[43mcolumns\u001b[49m\u001b[38;5;241;43m.\u001b[39;49m\u001b[43mget_loc\u001b[49m\u001b[43m(\u001b[49m\u001b[43mqoi\u001b[49m\u001b[43m)\u001b[49m\u001b[43m]\u001b[49m, alpha\u001b[38;5;241m=\u001b[39m\u001b[38;5;241m0.6\u001b[39m, label\u001b[38;5;241m=\u001b[39m\u001b[38;5;124m\"\u001b[39m\u001b[38;5;124mPrevisões\u001b[39m\u001b[38;5;124m\"\u001b[39m)\n\u001b[0;32m     15\u001b[0m     ax\u001b[38;5;241m.\u001b[39mplot([Y_val[:, i]\u001b[38;5;241m.\u001b[39mnumpy()\u001b[38;5;241m.\u001b[39mmin(), Y_val[:, i]\u001b[38;5;241m.\u001b[39mnumpy()\u001b[38;5;241m.\u001b[39mmax()], [Y_val[:, i]\u001b[38;5;241m.\u001b[39mnumpy()\u001b[38;5;241m.\u001b[39mmin(), Y_val[:, i]\u001b[38;5;241m.\u001b[39mnumpy()\u001b[38;5;241m.\u001b[39mmax()], \n\u001b[0;32m     16\u001b[0m             color\u001b[38;5;241m=\u001b[39m\u001b[38;5;124m\"\u001b[39m\u001b[38;5;124mred\u001b[39m\u001b[38;5;124m\"\u001b[39m, linestyle\u001b[38;5;241m=\u001b[39m\u001b[38;5;124m\"\u001b[39m\u001b[38;5;124m--\u001b[39m\u001b[38;5;124m\"\u001b[39m, label\u001b[38;5;241m=\u001b[39m\u001b[38;5;124m\"\u001b[39m\u001b[38;5;124mIdeal\u001b[39m\u001b[38;5;124m\"\u001b[39m)\n\u001b[0;32m     17\u001b[0m     r2 \u001b[38;5;241m=\u001b[39m r2_score(Y_val[:, i]\u001b[38;5;241m.\u001b[39mnumpy(), means[:, Y\u001b[38;5;241m.\u001b[39mcolumns\u001b[38;5;241m.\u001b[39mget_loc(qoi)])\n",
      "\u001b[1;31mIndexError\u001b[0m: too many indices for tensor of dimension 1"
     ]
    },
    {
     "data": {
      "image/png": "[encoded data removed]",
      "text/plain": [
       "<Figure size 1600x1200 with 6 Axes>"
      ]
     },
     "metadata": {},
     "output_type": "display_data"
    }
   ],
   "source": [
    "# Plotar Y verdadeiro vs Y previsto para cada QoI\n",
    "# Configurar layout do mega plot\n",
    "means = means.cpu()\n",
    "Y_val = Y_val.cpu()\n",
    "\n",
    "num_qois = len(Y.columns)\n",
    "rows = 3\n",
    "cols = 2\n",
    "fig, axes = plt.subplots(rows, cols, figsize=(16, 12))\n",
    "axes = axes.flatten()\n",
    "\n",
    "for i, qoi in enumerate(Y.columns):\n",
    "    ax = axes[i]\n",
    "    ax.scatter(Y_val[:, i].numpy(), means[:, Y.columns.get_loc(qoi)], alpha=0.6, label=\"Previsões\")\n",
    "    ax.plot([Y_val[:, i].numpy().min(), Y_val[:, i].numpy().max()], [Y_val[:, i].numpy().min(), Y_val[:, i].numpy().max()], \n",
    "            color=\"red\", linestyle=\"--\", label=\"Ideal\")\n",
    "    r2 = r2_score(Y_val[:, i].numpy(), means[:, Y.columns.get_loc(qoi)])\n",
    "    ax.set_title(f\"{qoi}: Y Verdadeiro vs Y Previsto - R² = {round(r2,4)}\")\n",
    "    ax.set_xlabel(\"Y Verdadeiro\")\n",
    "    ax.set_ylabel(\"Y Previsto\")\n",
    "    ax.legend()\n",
    "    ax.grid(True)\n",
    "\n",
    "# Desativar eixos vazios, caso o número de QoIs seja menor que o total de subplots\n",
    "for j in range(len(axes)):\n",
    "    if j >= num_qois:\n",
    "        axes[j].axis('off')\n",
    "\n",
    "plt.tight_layout()\n",
    "# plt.savefig(f\"{name}.jpg\")"
   ]
  },
  {
   "cell_type": "markdown",
   "metadata": {},
   "source": [
    "# Primeiro modo"
   ]
  },
  {
   "cell_type": "code",
   "execution_count": null,
   "metadata": {},
   "outputs": [],
   "source": [
    "num_epochs = 1000\n",
    "num_batches = model.variational_strategy._total_training_batches\n",
    "\n",
    "\n",
    "model.train()\n",
    "likelihood.train()\n",
    "\n",
    "optimizer = torch.optim.Adam(model.parameters(), lr=0.01)\n",
    "\n",
    "# Our loss object. We're using the VariationalELBO\n",
    "mll = gpytorch.mlls.VariationalELBO(likelihood, model, num_data=Y_train.size(0))\n",
    "\n",
    "\n",
    "epochs_iter = tqdm(range(num_epochs), desc=\"Epoch\")\n",
    "for epoch in epochs_iter:\n",
    "    minibatch_iter = tqdm(range(num_batches), desc=\"Minibatch\", leave=False)\n",
    "\n",
    "    for i in minibatch_iter:\n",
    "        optimizer.zero_grad()\n",
    "        output = model(x=None)\n",
    "        # Obtain the indices for mini-batch data\n",
    "        current_training_indices = model.variational_strategy.current_training_indices\n",
    "        # Obtain the y_batch using indices. It is important to keep the same order of train_x and train_y\n",
    "        y_batch = Y_train[...,current_training_indices]\n",
    "        if torch.cuda.is_available():\n",
    "            y_batch = y_batch.cuda()\n",
    "        loss = -mll(output, y_batch)\n",
    "        minibatch_iter.set_postfix(loss=loss.item())\n",
    "        loss.backward()\n",
    "        optimizer.step()"
   ]
  },
  {
   "cell_type": "code",
   "execution_count": null,
   "metadata": {},
   "outputs": [],
   "source": [
    "from torch.utils.data import TensorDataset, DataLoader\n",
    "\n",
    "\n",
    "test_dataset = TensorDataset(X_val, Y_val)\n",
    "test_loader = DataLoader(test_dataset, batch_size=64, shuffle=False)"
   ]
  },
  {
   "cell_type": "code",
   "execution_count": null,
   "metadata": {},
   "outputs": [],
   "source": [
    "model.eval()\n",
    "likelihood.eval()\n",
    "means = torch.tensor([0.])\n",
    "test_mse = 0\n",
    "with torch.no_grad():\n",
    "    for x_batch, y_batch in test_loader:\n",
    "        preds = model(x_batch)\n",
    "        means = torch.cat([means, preds.mean.cpu()])\n",
    "\n",
    "        diff = torch.pow(preds.mean - y_batch, 2)\n",
    "        diff = diff.sum(dim=-1) / X_val.size(0) # sum over bsz and scaling\n",
    "        diff = diff.mean() # average over likelihood_nsamples\n",
    "        test_mse += diff\n",
    "means = means[1:]\n",
    "test_rmse = test_mse.sqrt().item()"
   ]
  },
  {
   "cell_type": "code",
   "execution_count": null,
   "metadata": {},
   "outputs": [],
   "source": [
    "from torch.utils.data import TensorDataset, DataLoader\n",
    "\n",
    "\n",
    "test_dataset = TensorDataset(X_val, Y_val)\n",
    "test_loader = DataLoader(test_dataset, batch_size=32, shuffle=False)"
   ]
  },
  {
   "cell_type": "code",
   "execution_count": null,
   "metadata": {},
   "outputs": [],
   "source": [
    "model.eval()\n",
    "likelihood.eval()\n",
    "means = torch.tensor([0.])\n",
    "test_mse = 0\n",
    "with torch.no_grad():\n",
    "    for x_batch, y_batch in test_loader:\n",
    "        preds = model(x_batch)\n",
    "        means = torch.cat([means, preds.mean.cpu()])\n",
    "\n",
    "        diff = torch.pow(preds.mean - y_batch, 2)\n",
    "        diff = diff.sum(dim=-1) / X_val.size(0) # sum over bsz and scaling\n",
    "        diff = diff.mean() # average over likelihood_nsamples\n",
    "        test_mse += diff\n",
    "means = means[1:]\n",
    "test_rmse = test_mse.sqrt().item()\n",
    "print(test_rmse)"
   ]
  },
  {
   "cell_type": "code",
   "execution_count": null,
   "metadata": {},
   "outputs": [],
   "source": [
    "Y_val = Y_val.cpu()\n",
    "\n",
    "# Set into eval mode\n",
    "model.eval()\n",
    "likelihood.eval()\n",
    "\n",
    "# # Initialize plots\n",
    "# f, (y1_ax, y2_ax) = plt.subplots(1, 2, figsize=(8, 3))\n",
    "\n",
    "# Make predictions\n",
    "with torch.no_grad(), gpytorch.settings.fast_pred_var():\n",
    "    predictions = likelihood(model(X_val))\n",
    "    mean = predictions.mean.cpu()\n",
    "    lower, upper = predictions.confidence_region()"
   ]
  },
  {
   "cell_type": "code",
   "execution_count": null,
   "metadata": {},
   "outputs": [],
   "source": [
    "Y_val = Y_val.cpu()\n",
    "\n",
    "# Set into eval mode\n",
    "model.eval()\n",
    "likelihood.eval()\n",
    "\n",
    "# Initialize plots\n",
    "f, (y1_ax, y2_ax) = plt.subplots(1, 2, figsize=(8, 3))\n",
    "\n",
    "# Make predictions\n",
    "with torch.no_grad(), gpytorch.settings.fast_pred_var():\n",
    "    predictions = likelihood(model(X_val_tensor))\n",
    "    mean = predictions.mean.cpu()\n",
    "    lower, upper = predictions.confidence_region()"
   ]
  },
  {
   "cell_type": "code",
   "execution_count": null,
   "metadata": {},
   "outputs": [],
   "source": [
    "# Plotar Y verdadeiro vs Y previsto para cada QoI\n",
    "# Configurar layout do mega plot\n",
    "\n",
    "num_qois = len(Y.columns)\n",
    "rows = 3\n",
    "cols = 2\n",
    "fig, axes = plt.subplots(rows, cols, figsize=(16, 12))\n",
    "axes = axes.flatten()\n",
    "\n",
    "for i, qoi in enumerate(Y.columns):\n",
    "    ax = axes[i]\n",
    "    ax.scatter(Y_val_tensor[:, i].numpy(), mean[:, Y.columns.get_loc(qoi)], alpha=0.6, label=\"Previsões\")\n",
    "    ax.plot([Y_val_tensor[:, i].numpy().min(), Y_val_tensor[:, i].numpy().max()], [Y_val_tensor[:, i].numpy().min(), Y_val_tensor[:, i].numpy().max()], \n",
    "            color=\"red\", linestyle=\"--\", label=\"Ideal\")\n",
    "    r2 = r2_score(Y_val_tensor[:, i].numpy(), mean[:, Y.columns.get_loc(qoi)])\n",
    "    ax.set_title(f\"{qoi}: Y Verdadeiro vs Y Previsto - R² = {round(r2,4)}\")\n",
    "    ax.set_xlabel(\"Y Verdadeiro\")\n",
    "    ax.set_ylabel(\"Y Previsto\")\n",
    "    ax.legend()\n",
    "    ax.grid(True)\n",
    "\n",
    "# Desativar eixos vazios, caso o número de QoIs seja menor que o total de subplots\n",
    "for j in range(len(axes)):\n",
    "    if j >= num_qois:\n",
    "        axes[j].axis('off')\n",
    "\n",
    "plt.tight_layout()\n",
    "# plt.savefig(f\"{name}.jpg\")"
   ]
  }
 ],
 "metadata": {
  "kernelspec": {
   "display_name": "pytorchGPU",
   "language": "python",
   "name": "python3"
  },
  "language_info": {
   "codemirror_mode": {
    "name": "ipython",
    "version": 3
   },
   "file_extension": ".py",
   "mimetype": "text/x-python",
   "name": "python",
   "nbconvert_exporter": "python",
   "pygments_lexer": "ipython3",
   "version": "3.11.11"
  }
 },
 "nbformat": 4,
 "nbformat_minor": 2
}
